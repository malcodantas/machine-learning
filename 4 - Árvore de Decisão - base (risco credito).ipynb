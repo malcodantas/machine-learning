{
 "cells": [
  {
   "cell_type": "markdown",
   "metadata": {},
   "source": [
    "<h1>Arvores de decisão</h1>\n",
    "Não é necessario o escalonamento "
   ]
  },
  {
   "cell_type": "code",
   "execution_count": 4,
   "metadata": {},
   "outputs": [],
   "source": [
    "# Pré-processamento\n",
    "import pandas as pd\n",
    "base=pd.read_csv('risco-credito.csv')\n",
    "previsores=base.iloc[:,0:4].values\n",
    "classe=base.iloc[:,4].values\n",
    "\n",
    "#Transformar atributos categoricos em numericos\n",
    "from sklearn.preprocessing import LabelEncoder\n",
    "labelencoder=LabelEncoder()\n",
    "for i in range(0,4):\n",
    "    previsores[:,i]=labelencoder.fit_transform(previsores[:,i])\n"
   ]
  },
  {
   "cell_type": "code",
   "execution_count": 17,
   "metadata": {},
   "outputs": [
    {
     "data": {
      "text/plain": [
       "DecisionTreeClassifier(class_weight=None, criterion='entropy', max_depth=None,\n",
       "            max_features=None, max_leaf_nodes=None,\n",
       "            min_impurity_decrease=0.0, min_impurity_split=None,\n",
       "            min_samples_leaf=1, min_samples_split=2,\n",
       "            min_weight_fraction_leaf=0.0, presort=False, random_state=None,\n",
       "            splitter='best')"
      ]
     },
     "execution_count": 17,
     "metadata": {},
     "output_type": "execute_result"
    }
   ],
   "source": [
    "# importando biblioteca\n",
    "from sklearn.tree import DecisionTreeClassifier, export\n",
    "classificador=DecisionTreeClassifier(criterion=\"entropy\")\n",
    "classificador.fit(previsores,classe)"
   ]
  },
  {
   "cell_type": "code",
   "execution_count": 18,
   "metadata": {},
   "outputs": [
    {
     "name": "stdout",
     "output_type": "stream",
     "text": [
      "[0.41607015 0.10294068 0.03885431 0.44213486]\n"
     ]
    }
   ],
   "source": [
    "print(classificador.feature_importances_)# atributo base para a construçao da árvore"
   ]
  },
  {
   "cell_type": "code",
   "execution_count": 21,
   "metadata": {},
   "outputs": [],
   "source": [
    "export.export_graphviz(classificador,out_file='arvore.dot',\n",
    "                       feature_names=['historia','divida','garantia','renda'],\n",
    "                      class_names=['alto','moderado','baixo'],\n",
    "                       filled=True,\n",
    "                       leaves_parallel=True\n",
    "                      )\n",
    "\n",
    "#  Para visualizar a arvore use os seguintes comandos no terminal\n",
    "#  apt-get install graphviz\n",
    "#  dot -Tpng arvore.dot -o teste.jpg # esse comando deve ser usado na pasta que esta o arquivo out_file\n"
   ]
  },
  {
   "cell_type": "code",
   "execution_count": 24,
   "metadata": {},
   "outputs": [
    {
     "data": {
      "text/plain": [
       "array(['baixo', 'alto'], dtype=object)"
      ]
     },
     "execution_count": 24,
     "metadata": {},
     "output_type": "execute_result"
    }
   ],
   "source": [
    "#testando um registro\n",
    "# historia boa,divida alta,garantia nenhuma ,renda>35\n",
    "# historia ruim,divida alta,garantia adequada,renda<35\n",
    "resultado=classificador.predict([[0,0,1,2],[3,0,0,0]])\n",
    "resultado"
   ]
  }
 ],
 "metadata": {
  "kernelspec": {
   "display_name": "Python 3",
   "language": "python",
   "name": "python3"
  },
  "language_info": {
   "codemirror_mode": {
    "name": "ipython",
    "version": 3
   },
   "file_extension": ".py",
   "mimetype": "text/x-python",
   "name": "python",
   "nbconvert_exporter": "python",
   "pygments_lexer": "ipython3",
   "version": "3.7.0"
  }
 },
 "nbformat": 4,
 "nbformat_minor": 2
}
