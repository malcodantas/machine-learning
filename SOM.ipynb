{
 "cells": [
  {
   "cell_type": "code",
   "execution_count": 1,
   "metadata": {
    "colab": {},
    "colab_type": "code",
    "id": "IBg4DNrmjIYq"
   },
   "outputs": [],
   "source": [
    "# SOM\n",
    "# from https://www.superdatascience.com/deep-learning/ \n",
    "\n",
    "\n",
    "# Importing the libraries\n",
    "import numpy as np\n",
    "import matplotlib.pyplot as plt\n",
    "import pandas as pd"
   ]
  },
  {
   "cell_type": "code",
   "execution_count": 2,
   "metadata": {
    "colab": {
     "base_uri": "https://localhost:8080/",
     "height": 174
    },
    "colab_type": "code",
    "executionInfo": {
     "elapsed": 5276,
     "status": "ok",
     "timestamp": 1539177643775,
     "user": {
      "displayName": "Orivaldo Santana Jr",
      "photoUrl": "",
      "userId": "09229280206674717763"
     },
     "user_tz": 180
    },
    "id": "00IH3WDBjzru",
    "outputId": "096c58c7-2837-4826-fe6b-b29a371b9047"
   },
   "outputs": [
    {
     "name": "stdout",
     "output_type": "stream",
     "text": [
      "Collecting minisom\n",
      "  Downloading https://files.pythonhosted.org/packages/d3/de/79460293f5b3b69371832f50419820162b30a12c929d02543df3b4ff3d41/MiniSom-2.1.4.tar.gz\n",
      "Building wheels for collected packages: minisom\n",
      "  Running setup.py bdist_wheel for minisom ... \u001b[?25ldone\n",
      "\u001b[?25h  Stored in directory: /home/malco/.cache/pip/wheels/4a/5c/75/d21b1b07292ccd8720a8076304f793031e016c16e9c8eacbf9\n",
      "Successfully built minisom\n",
      "Installing collected packages: minisom\n",
      "Successfully installed minisom-2.1.4\n"
     ]
    }
   ],
   "source": [
    "# Install MiniSOM\n",
    "# https://github.com/JustGlowing/minisom \n",
    "!pip install minisom"
   ]
  },
  {
   "cell_type": "code",
   "execution_count": 3,
   "metadata": {
    "colab": {
     "base_uri": "https://localhost:8080/",
     "height": 34
    },
    "colab_type": "code",
    "executionInfo": {
     "elapsed": 3780,
     "status": "ok",
     "timestamp": 1539177647585,
     "user": {
      "displayName": "Orivaldo Santana Jr",
      "photoUrl": "",
      "userId": "09229280206674717763"
     },
     "user_tz": 180
    },
    "id": "QgR2cDe_kSLS",
    "outputId": "b0aff62f-6c44-47d7-ebec-07414f750a75"
   },
   "outputs": [
    {
     "name": "stdout",
     "output_type": "stream",
     "text": [
      "perfil_politico.csv\r\n"
     ]
    }
   ],
   "source": [
    "# Getting Data\n",
    "import os\n",
    "import tarfile\n",
    "from six.moves import urllib\n",
    "\n",
    "FILE_TO_DOWNLOAD =  \"perfil_politico.csv\"\n",
    "DOWNLOAD_ROOT = \"https://github.com/ect-info/ml/raw/master/\"\n",
    "DATA_PATH = \"dados/\"\n",
    "DATA_URL = DOWNLOAD_ROOT + DATA_PATH + FILE_TO_DOWNLOAD\n",
    "\n",
    "def fetch_data(data_url=DATA_URL, data_path=DATA_PATH, file_to_download=FILE_TO_DOWNLOAD):\n",
    "  if not os.path.isdir(data_path):\n",
    "    os.makedirs(data_path)\n",
    "  urllib.request.urlretrieve(data_url, data_path+file_to_download)\n",
    "  \n",
    "  \n",
    "fetch_data()\n",
    "\n",
    "# observando se o diretório datasets foi criado com sucesso \n",
    "!ls dados"
   ]
  },
  {
   "cell_type": "code",
   "execution_count": 4,
   "metadata": {
    "colab": {
     "base_uri": "https://localhost:8080/",
     "height": 223
    },
    "colab_type": "code",
    "executionInfo": {
     "elapsed": 924,
     "status": "ok",
     "timestamp": 1539177648632,
     "user": {
      "displayName": "Orivaldo Santana Jr",
      "photoUrl": "",
      "userId": "09229280206674717763"
     },
     "user_tz": 180
    },
    "id": "Mnq2XRGwkZgr",
    "outputId": "60fb0827-4c21-401f-f28a-59a2234cb2b8"
   },
   "outputs": [
    {
     "data": {
      "text/html": [
       "<div>\n",
       "<style scoped>\n",
       "    .dataframe tbody tr th:only-of-type {\n",
       "        vertical-align: middle;\n",
       "    }\n",
       "\n",
       "    .dataframe tbody tr th {\n",
       "        vertical-align: top;\n",
       "    }\n",
       "\n",
       "    .dataframe thead th {\n",
       "        text-align: right;\n",
       "    }\n",
       "</style>\n",
       "<table border=\"1\" class=\"dataframe\">\n",
       "  <thead>\n",
       "    <tr style=\"text-align: right;\">\n",
       "      <th></th>\n",
       "      <th>Apoia privatizações das empresas brasileiras?</th>\n",
       "      <th>Lula deve ser solto</th>\n",
       "      <th>O impeachment de Dilma foi um golpe?</th>\n",
       "      <th>Legalização do aborto</th>\n",
       "      <th>Políticas de ações afirmativas (cotas)</th>\n",
       "      <th>A favor da reforma agrária</th>\n",
       "      <th>Todos os brasileiro devem alcançar suas conquistas através da meritocracia</th>\n",
       "      <th>Apoia a legalização do porte de armas</th>\n",
       "      <th>Apoia a redução da maioridade penal</th>\n",
       "      <th>Apoia a laicidade do Estado</th>\n",
       "      <th>Apoia a diminuição do Estado</th>\n",
       "      <th>As Universidades são um gasto público?</th>\n",
       "      <th>A favor do foro privilegiado?</th>\n",
       "      <th>A favor de uma reforma política?</th>\n",
       "      <th>A favor de uma diminuição de regalias para os políticos?</th>\n",
       "    </tr>\n",
       "  </thead>\n",
       "  <tbody>\n",
       "    <tr>\n",
       "      <th>0</th>\n",
       "      <td>1.0</td>\n",
       "      <td>0.0</td>\n",
       "      <td>0.0</td>\n",
       "      <td>0.5</td>\n",
       "      <td>1.0</td>\n",
       "      <td>1.0</td>\n",
       "      <td>0.5</td>\n",
       "      <td>0.5</td>\n",
       "      <td>1.0</td>\n",
       "      <td>1.0</td>\n",
       "      <td>1.0</td>\n",
       "      <td>0</td>\n",
       "      <td>0.0</td>\n",
       "      <td>1</td>\n",
       "      <td>1</td>\n",
       "    </tr>\n",
       "    <tr>\n",
       "      <th>1</th>\n",
       "      <td>0.5</td>\n",
       "      <td>1.0</td>\n",
       "      <td>1.0</td>\n",
       "      <td>0.5</td>\n",
       "      <td>1.0</td>\n",
       "      <td>0.5</td>\n",
       "      <td>1.0</td>\n",
       "      <td>0.0</td>\n",
       "      <td>1.0</td>\n",
       "      <td>1.0</td>\n",
       "      <td>0.5</td>\n",
       "      <td>0</td>\n",
       "      <td>0.0</td>\n",
       "      <td>1</td>\n",
       "      <td>1</td>\n",
       "    </tr>\n",
       "    <tr>\n",
       "      <th>2</th>\n",
       "      <td>1.0</td>\n",
       "      <td>0.0</td>\n",
       "      <td>0.0</td>\n",
       "      <td>1.0</td>\n",
       "      <td>0.5</td>\n",
       "      <td>0.5</td>\n",
       "      <td>1.0</td>\n",
       "      <td>1.0</td>\n",
       "      <td>1.0</td>\n",
       "      <td>1.0</td>\n",
       "      <td>1.0</td>\n",
       "      <td>0</td>\n",
       "      <td>0.0</td>\n",
       "      <td>0</td>\n",
       "      <td>1</td>\n",
       "    </tr>\n",
       "    <tr>\n",
       "      <th>3</th>\n",
       "      <td>1.0</td>\n",
       "      <td>0.0</td>\n",
       "      <td>1.0</td>\n",
       "      <td>0.0</td>\n",
       "      <td>1.0</td>\n",
       "      <td>1.0</td>\n",
       "      <td>1.0</td>\n",
       "      <td>0.0</td>\n",
       "      <td>0.0</td>\n",
       "      <td>1.0</td>\n",
       "      <td>1.0</td>\n",
       "      <td>0</td>\n",
       "      <td>1.0</td>\n",
       "      <td>1</td>\n",
       "      <td>1</td>\n",
       "    </tr>\n",
       "    <tr>\n",
       "      <th>4</th>\n",
       "      <td>0.0</td>\n",
       "      <td>0.0</td>\n",
       "      <td>1.0</td>\n",
       "      <td>0.0</td>\n",
       "      <td>0.0</td>\n",
       "      <td>0.0</td>\n",
       "      <td>1.0</td>\n",
       "      <td>1.0</td>\n",
       "      <td>1.0</td>\n",
       "      <td>1.0</td>\n",
       "      <td>0.0</td>\n",
       "      <td>0</td>\n",
       "      <td>0.0</td>\n",
       "      <td>1</td>\n",
       "      <td>1</td>\n",
       "    </tr>\n",
       "  </tbody>\n",
       "</table>\n",
       "</div>"
      ],
      "text/plain": [
       "   Apoia privatizações das empresas brasileiras?  Lula deve ser solto  \\\n",
       "0                                            1.0                  0.0   \n",
       "1                                            0.5                  1.0   \n",
       "2                                            1.0                  0.0   \n",
       "3                                            1.0                  0.0   \n",
       "4                                            0.0                  0.0   \n",
       "\n",
       "   O impeachment de Dilma foi um golpe?  Legalização do aborto  \\\n",
       "0                                   0.0                    0.5   \n",
       "1                                   1.0                    0.5   \n",
       "2                                   0.0                    1.0   \n",
       "3                                   1.0                    0.0   \n",
       "4                                   1.0                    0.0   \n",
       "\n",
       "   Políticas de ações afirmativas (cotas)  A favor da reforma agrária  \\\n",
       "0                                     1.0                         1.0   \n",
       "1                                     1.0                         0.5   \n",
       "2                                     0.5                         0.5   \n",
       "3                                     1.0                         1.0   \n",
       "4                                     0.0                         0.0   \n",
       "\n",
       "   Todos os brasileiro devem alcançar suas conquistas através da meritocracia  \\\n",
       "0                                                0.5                            \n",
       "1                                                1.0                            \n",
       "2                                                1.0                            \n",
       "3                                                1.0                            \n",
       "4                                                1.0                            \n",
       "\n",
       "   Apoia a legalização do porte de armas  Apoia a redução da maioridade penal  \\\n",
       "0                                    0.5                                  1.0   \n",
       "1                                    0.0                                  1.0   \n",
       "2                                    1.0                                  1.0   \n",
       "3                                    0.0                                  0.0   \n",
       "4                                    1.0                                  1.0   \n",
       "\n",
       "   Apoia a laicidade do Estado  Apoia a diminuição do Estado  \\\n",
       "0                          1.0                           1.0   \n",
       "1                          1.0                           0.5   \n",
       "2                          1.0                           1.0   \n",
       "3                          1.0                           1.0   \n",
       "4                          1.0                           0.0   \n",
       "\n",
       "   As Universidades são um gasto público?  A favor do foro privilegiado?  \\\n",
       "0                                       0                            0.0   \n",
       "1                                       0                            0.0   \n",
       "2                                       0                            0.0   \n",
       "3                                       0                            1.0   \n",
       "4                                       0                            0.0   \n",
       "\n",
       "   A favor de uma reforma política?  \\\n",
       "0                                 1   \n",
       "1                                 1   \n",
       "2                                 0   \n",
       "3                                 1   \n",
       "4                                 1   \n",
       "\n",
       "   A favor de uma diminuição de regalias para os políticos?  \n",
       "0                                                  1         \n",
       "1                                                  1         \n",
       "2                                                  1         \n",
       "3                                                  1         \n",
       "4                                                  1         "
      ]
     },
     "execution_count": 4,
     "metadata": {},
     "output_type": "execute_result"
    }
   ],
   "source": [
    "# Importing the dataset\n",
    "dataset = pd.read_csv(DATA_PATH+FILE_TO_DOWNLOAD)\n",
    "\n",
    "X = dataset.iloc[:, :-1].values\n",
    "y = dataset.iloc[:, -1].values\n",
    "\n",
    "dataset.head(  )\n",
    "\n",
    "\n"
   ]
  },
  {
   "cell_type": "code",
   "execution_count": 7,
   "metadata": {
    "colab": {},
    "colab_type": "code",
    "id": "4XExRxaKmKPd"
   },
   "outputs": [],
   "source": [
    "# Feature Scaling\n",
    "from sklearn.preprocessing import MinMaxScaler\n",
    "sc = MinMaxScaler(feature_range = (0, 1))\n",
    "X = sc.fit_transform(X)"
   ]
  },
  {
   "cell_type": "code",
   "execution_count": 8,
   "metadata": {
    "colab": {},
    "colab_type": "code",
    "id": "HQNpExMKmM8D"
   },
   "outputs": [],
   "source": [
    "# Training the SOM\n",
    "from minisom import MiniSom\n",
    "som = MiniSom(x = 10, y = 10, input_len = 14, sigma = 1.0, learning_rate = 0.5)\n",
    "som.random_weights_init(X)\n",
    "som.train_random(data = X, num_iteration = 100)"
   ]
  },
  {
   "cell_type": "code",
   "execution_count": 9,
   "metadata": {
    "colab": {
     "base_uri": "https://localhost:8080/",
     "height": 351
    },
    "colab_type": "code",
    "executionInfo": {
     "elapsed": 3219,
     "status": "ok",
     "timestamp": 1539177654249,
     "user": {
      "displayName": "Orivaldo Santana Jr",
      "photoUrl": "",
      "userId": "09229280206674717763"
     },
     "user_tz": 180
    },
    "id": "TwBd-HBimQPc",
    "outputId": "d55501d9-8c40-4bbe-db1b-73e4d5701b77"
   },
   "outputs": [
    {
     "data": {
      "image/png": "[encoded data removed]",
      "text/plain": [
       "<Figure size 432x288 with 2 Axes>"
      ]
     },
     "metadata": {
      "needs_background": "light"
     },
     "output_type": "display_data"
    }
   ],
   "source": [
    "# Visualizing the results\n",
    "from pylab import bone, pcolor, colorbar, plot, show\n",
    "bone()\n",
    "pcolor(som.distance_map().T)\n",
    "colorbar()\n",
    "markers = ['o', 's']\n",
    "colors = ['r', 'g']\n",
    "for i, x in enumerate(X):\n",
    "    w = som.winner(x)\n",
    "    plot(w[0] + 0.5,\n",
    "         w[1] + 0.5,\n",
    "         markers[y[i]],\n",
    "         markeredgecolor = colors[y[i]],\n",
    "         markerfacecolor = 'None',\n",
    "         markersize = 10,\n",
    "         markeredgewidth = 2)\n",
    "show()\n"
   ]
  },
  {
   "cell_type": "code",
   "execution_count": 0,
   "metadata": {
    "colab": {},
    "colab_type": "code",
    "id": "DBywFkxNmfbO"
   },
   "outputs": [],
   "source": []
  }
 ],
 "metadata": {
  "colab": {
   "name": "Copy of Exemplo_SOM.ipynb",
   "provenance": [
    {
     "file_id": "11nFGESD27fHQXN5uLib3G3KK5iedhkFM",
     "timestamp": 1544170376369
    }
   ],
   "version": "0.3.2"
  },
  "kernelspec": {
   "display_name": "Python 3",
   "language": "python",
   "name": "python3"
  },
  "language_info": {
   "codemirror_mode": {
    "name": "ipython",
    "version": 3
   },
   "file_extension": ".py",
   "mimetype": "text/x-python",
   "name": "python",
   "nbconvert_exporter": "python",
   "pygments_lexer": "ipython3",
   "version": "3.7.0"
  }
 },
 "nbformat": 4,
 "nbformat_minor": 1
}
