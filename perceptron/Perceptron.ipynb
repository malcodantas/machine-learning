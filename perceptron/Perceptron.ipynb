{
 "cells": [
  {
   "cell_type": "code",
   "execution_count": 20,
   "metadata": {},
   "outputs": [],
   "source": [
    "import numpy as np\n",
    "entradas=[[0,0,1],[1,1,0]]\n",
    "resultados=[-1,1]\n",
    "pesos=[0.4,-0.6,0.6]\n",
    "q=0.5\n",
    "taxa_aprendizado=0.4"
   ]
  },
  {
   "cell_type": "code",
   "execution_count": 34,
   "metadata": {},
   "outputs": [],
   "source": [
    "#Training \n",
    "for i in range(0,len(entradas)):\n",
    "    #Multiplicando os pesos pelas entradas\n",
    "    m=np.multiply(pesos,entradas[i])\n",
    "    u = np.sum(m) -0.5 \n",
    "    if u > 0:\n",
    "        y = 1\n",
    "    else:\n",
    "        y = -1\n",
    "    #Atualizando os pesos\n",
    "    for peso in range(0,len(pesos)):\n",
    "        #Atualizando os pesos\n",
    "        pesos[peso] = pesos[peso] + taxa_aprendizado*entradas[i][peso]*(resultados[i] - y)\n",
    "        #calculando os erros\n",
    "        erro=resultados[i]-y\n",
    "        #Redefinindo o teta(q)\n",
    "        q = q + taxa_aprendizado*(-1)*erro\n",
    "        "
   ]
  },
  {
   "cell_type": "code",
   "execution_count": 36,
   "metadata": {},
   "outputs": [
    {
     "name": "stdout",
     "output_type": "stream",
     "text": [
      "[1.2000000000000002, 0.20000000000000007, -0.20000000000000007]\n"
     ]
    }
   ],
   "source": [
    "print(pesos)"
   ]
  }
 ],
 "metadata": {
  "kernelspec": {
   "display_name": "Python 3",
   "language": "python",
   "name": "python3"
  },
  "language_info": {
   "codemirror_mode": {
    "name": "ipython",
    "version": 3
   },
   "file_extension": ".py",
   "mimetype": "text/x-python",
   "name": "python",
   "nbconvert_exporter": "python",
   "pygments_lexer": "ipython3",
   "version": "3.6.5"
  }
 },
 "nbformat": 4,
 "nbformat_minor": 2
}
