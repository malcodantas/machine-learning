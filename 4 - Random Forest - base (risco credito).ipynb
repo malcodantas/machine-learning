{
 "cells": [
  {
   "cell_type": "code",
   "execution_count": 1,
   "metadata": {},
   "outputs": [],
   "source": [
    "# Preprocessamento da base de credit-data\n",
    "import pandas as pd\n",
    "\n",
    "base = pd.read_csv('credit-data.csv')\n",
    "base.loc[base.age < 0, 'age'] = 40.92\n",
    "               \n",
    "previsores = base.iloc[:, 1:4].values\n",
    "classe = base.iloc[:, 4].values\n",
    "\n",
    "from sklearn.preprocessing import Imputer #tratar valores nao informados\n",
    "imputer = Imputer(missing_values = 'NaN', strategy = 'mean', axis = 0)\n",
    "imputer = imputer.fit(previsores[:, 1:4])\n",
    "previsores[:, 1:4] = imputer.transform(previsores[:, 1:4])\n",
    "\n",
    "from sklearn.preprocessing import StandardScaler #escalonar\n",
    "scaler = StandardScaler()\n",
    "previsores = scaler.fit_transform(previsores)\n",
    "\n",
    "from sklearn.model_selection import train_test_split #dividindo arquivo em treino e teste\n",
    "previsores_treinamento, previsores_teste, classe_treinamento, classe_teste = train_test_split(previsores, classe, test_size=0.25, random_state=0)\n"
   ]
  },
  {
   "cell_type": "code",
   "execution_count": 58,
   "metadata": {},
   "outputs": [
    {
     "data": {
      "text/plain": [
       "0.964"
      ]
     },
     "execution_count": 58,
     "metadata": {},
     "output_type": "execute_result"
    }
   ],
   "source": [
    "#Aplicando o Random Forest\n",
    "# from sklearn.ensemble import RandomForestClassifier\n",
    "# classificador=RandomForestClassifier(n_estimators=5,criterion='entropy',random_state=0)\n",
    "# classificador.fit(previsores_treinamento,classe_treinamento)\n",
    "# previsoes=classificador.predict(previsores_teste)"
   ]
  },
  {
   "cell_type": "code",
   "execution_count": 20,
   "metadata": {},
   "outputs": [],
   "source": [
    "# Procurando o Valor Ótimo para o n_estimators\n",
    "x=[]\n",
    "y=[]\n",
    "from sklearn.metrics import accuracy_score,confusion_matrix\n",
    "from sklearn.ensemble import RandomForestClassifier\n",
    "for i in range(1,100):\n",
    "    classificador=RandomForestClassifier(n_estimators=i,criterion='entropy',random_state=0)\n",
    "    classificador.fit(previsores_treinamento,classe_treinamento)\n",
    "    previsoes=classificador.predict(previsores_teste)\n",
    "    precisao=accuracy_score(classe_teste,previsoes)    \n",
    "    x.append(i)\n",
    "    y.append(precisao)\n"
   ]
  },
  {
   "cell_type": "code",
   "execution_count": 46,
   "metadata": {},
   "outputs": [
    {
     "name": "stdout",
     "output_type": "stream",
     "text": [
      "O valor maximo de precisao é de: 0.986000\n",
      "O numero de florestas randomicas que melhor se adapta a base de dados: 56\n"
     ]
    },
    {
     "data": {
      "image/png": "[encoded data removed]",
      "text/plain": [
       "<Figure size 432x288 with 1 Axes>"
      ]
     },
     "metadata": {
      "needs_background": "light"
     },
     "output_type": "display_data"
    }
   ],
   "source": [
    "import matplotlib.pyplot as plt\n",
    "plt.plot(x,y)\n",
    "acuracia_maxima=max(y)\n",
    "print(\"O valor maximo de precisao é de: %f\"%(acuracia_maxima)) #valor max possivel de y\n",
    "random_forest=y.index(acuracia_maxima)\n",
    "print(\"O numero de florestas randomicas que melhor se adapta a base de dados: %i\"%(random_forest))\n"
   ]
  },
  {
   "cell_type": "code",
   "execution_count": 56,
   "metadata": {},
   "outputs": [
    {
     "name": "stdout",
     "output_type": "stream",
     "text": [
      "0.98\n",
      "[[433   3]\n",
      " [  7  57]]\n"
     ]
    }
   ],
   "source": [
    "classificador=RandomForestClassifier(n_estimators=random_forest,criterion='entropy',random_state=0)\n",
    "classificador.fit(previsores_treinamento,classe_treinamento)\n",
    "previsoes=classificador.predict(previsores_teste)\n",
    "precisao=accuracy_score(classe_teste,previsoes) \n",
    "matriz=confusion_matrix(classe_teste,previsoes) \n",
    "print(precisao)\n",
    "print(matriz)"
   ]
  },
  {
   "cell_type": "code",
   "execution_count": 61,
   "metadata": {},
   "outputs": [
    {
     "data": {
      "text/plain": [
       "0.986"
      ]
     },
     "execution_count": 61,
     "metadata": {},
     "output_type": "execute_result"
    }
   ],
   "source": [
    "y[56]"
   ]
  }
 ],
 "metadata": {
  "kernelspec": {
   "display_name": "Python 3",
   "language": "python",
   "name": "python3"
  },
  "language_info": {
   "codemirror_mode": {
    "name": "ipython",
    "version": 3
   },
   "file_extension": ".py",
   "mimetype": "text/x-python",
   "name": "python",
   "nbconvert_exporter": "python",
   "pygments_lexer": "ipython3",
   "version": "3.7.0"
  }
 },
 "nbformat": 4,
 "nbformat_minor": 2
}
