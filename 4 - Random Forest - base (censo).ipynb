{
 "cells": [
  {
   "cell_type": "code",
   "execution_count": 15,
   "metadata": {},
   "outputs": [
    {
     "name": "stderr",
     "output_type": "stream",
     "text": [
      "/home/malco/anaconda3/lib/python3.7/site-packages/sklearn/utils/validation.py:475: DataConversionWarning: Data with input dtype object was converted to float64 by StandardScaler.\n",
      "  warnings.warn(msg, DataConversionWarning)\n"
     ]
    }
   ],
   "source": [
    "import pandas as pd\n",
    "base=pd.read_csv('census.csv')\n",
    "previsores=base.iloc[:,0:14].values\n",
    "classe=base.iloc[:,14].values\n",
    "from sklearn.preprocessing import LabelEncoder,OneHotEncoder\n",
    "labelencoder_previsores=LabelEncoder()\n",
    "for i in range(1,14):\n",
    "    if i in [1,3,5,6,7,8,9,13]:\n",
    "        previsores[:,i]=labelencoder_previsores.fit_transform(previsores[:,i])\n",
    "labelencoder_classe=LabelEncoder()\n",
    "classe=labelencoder_classe.fit_transform(classe)\n",
    "#onehotencoder=OneHotEncoder(categorical_features=[1,3,5,6,7,8,9,13])\n",
    "#previsores=onehotencoder.fit_transform(previsores).toarray()\n",
    "from sklearn.preprocessing import StandardScaler\n",
    "scaler = StandardScaler()\n",
    "previsores=scaler.fit_transform(previsores)\n",
    "from sklearn.model_selection import train_test_split\n",
    "previsores_train,previsores_teste,classe_train,classe_teste=train_test_split(previsores,classe,test_size=0.25,random_state=0)"
   ]
  },
  {
   "cell_type": "code",
   "execution_count": 16,
   "metadata": {},
   "outputs": [],
   "source": [
    "x=[]\n",
    "y=[]\n",
    "from sklearn.ensemble import RandomForestClassifier\n",
    "from sklearn.metrics import confusion_matrix,accuracy_score\n",
    "for i in range(1,100):\n",
    "    classificador=RandomForestClassifier(n_estimators=i,criterion='entropy',random_state=0)\n",
    "    classificador.fit(previsores_train,classe_train)\n",
    "    previsoes=classificador.predict(previsores_teste)\n",
    "    precisao=accuracy_score(classe_teste,previsoes)\n",
    "    x.append(i)\n",
    "    y.append(precisao)\n"
   ]
  },
  {
   "cell_type": "code",
   "execution_count": 17,
   "metadata": {},
   "outputs": [
    {
     "data": {
      "image/png": "[encoded data removed]",
      "text/plain": [
       "<Figure size 432x288 with 1 Axes>"
      ]
     },
     "metadata": {
      "needs_background": "light"
     },
     "output_type": "display_data"
    },
    {
     "name": "stdout",
     "output_type": "stream",
     "text": [
      "o valor maximo de acerto foi de: 0.854809\n",
      "O numero de arvores é de: 39 \n"
     ]
    }
   ],
   "source": [
    "import matplotlib.pyplot as plt\n",
    "plt.plot(x,y)\n",
    "plt.show()\n",
    "max_accuracy=max(y)\n",
    "n_random_forests=y.index(max_accuracy)\n",
    "print(\"o valor maximo de acerto foi de: %f\"%(max_accuracy))\n",
    "print(\"O numero de arvores é de: %i \"%(n_random_forests))"
   ]
  },
  {
   "cell_type": "code",
   "execution_count": 19,
   "metadata": {},
   "outputs": [
    {
     "data": {
      "text/plain": [
       "0.8548089915243827"
      ]
     },
     "execution_count": 19,
     "metadata": {},
     "output_type": "execute_result"
    }
   ],
   "source": [
    "max(y)"
   ]
  }
 ],
 "metadata": {
  "kernelspec": {
   "display_name": "Python 3",
   "language": "python",
   "name": "python3"
  },
  "language_info": {
   "codemirror_mode": {
    "name": "ipython",
    "version": 3
   },
   "file_extension": ".py",
   "mimetype": "text/x-python",
   "name": "python",
   "nbconvert_exporter": "python",
   "pygments_lexer": "ipython3",
   "version": "3.7.0"
  }
 },
 "nbformat": 4,
 "nbformat_minor": 2
}
