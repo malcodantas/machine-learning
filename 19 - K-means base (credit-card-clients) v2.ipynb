{
 "cells": [
  {
   "cell_type": "code",
   "execution_count": 1,
   "metadata": {},
   "outputs": [],
   "source": [
    "import matplotlib.pyplot as plt\n",
    "import pandas as pd\n",
    "from sklearn.cluster import KMeans\n",
    "from sklearn.preprocessing import StandardScaler\n",
    "import numpy as np\n",
    "\n"
   ]
  },
  {
   "cell_type": "code",
   "execution_count": 2,
   "metadata": {},
   "outputs": [
    {
     "name": "stderr",
     "output_type": "stream",
     "text": [
      "/home/malco/anaconda3/lib/python3.7/site-packages/sklearn/utils/validation.py:475: DataConversionWarning: Data with input dtype int64 was converted to float64 by StandardScaler.\n",
      "  warnings.warn(msg, DataConversionWarning)\n"
     ]
    }
   ],
   "source": [
    "base=pd.read_csv('credit-card-clients.csv',header=1)\n",
    "base['BILL_TOTAL']=base[\"BILL_AMT1\"] + base[\"BILL_AMT2\"]+ base[\"BILL_AMT3\"] + base[\"BILL_AMT4\"]+ base[\"BILL_AMT5\"]+ base[\"BILL_AMT6\"]\n",
    "x=base.iloc[:,[1,25]].values\n",
    "scaler=StandardScaler()\n",
    "x=scaler.fit_transform(x)\n",
    "# wcss=[]\n",
    "# xv=[]\n",
    "# for i in range(1,11):\n",
    "#     kmeans=KMeans(n_clusters=i,random_state=0)\n",
    "#     kmeans.fit(x)\n",
    "#     wcss.append(kmeans.inertia_)\n",
    "#     xv.append(i)"
   ]
  },
  {
   "cell_type": "code",
   "execution_count": 3,
   "metadata": {},
   "outputs": [],
   "source": [
    "# plt.plot(xv,wcss)\n",
    "# # escolhendo o numero de clusters"
   ]
  },
  {
   "cell_type": "code",
   "execution_count": 4,
   "metadata": {},
   "outputs": [],
   "source": [
    "kmeans=KMeans(n_clusters=4)\n",
    "previsores=kmeans.fit_predict(x)"
   ]
  },
  {
   "cell_type": "code",
   "execution_count": 5,
   "metadata": {},
   "outputs": [
    {
     "data": {
      "text/plain": [
       "<matplotlib.legend.Legend at 0x7f0f2149f4a8>"
      ]
     },
     "execution_count": 5,
     "metadata": {},
     "output_type": "execute_result"
    },
    {
     "data": {
      "image/png": "[encoded data removed]",
      "text/plain": [
       "<Figure size 432x288 with 1 Axes>"
      ]
     },
     "metadata": {
      "needs_background": "light"
     },
     "output_type": "display_data"
    }
   ],
   "source": [
    "plt.scatter(x[previsores==0,0],x[previsores==0,1],label=\"cluster 0\",s=100,c='red')\n",
    "plt.scatter(x[previsores==1,0],x[previsores==1,1],label=\"cluster 1\",s=100,c='orange')\n",
    "plt.scatter(x[previsores==2,0],x[previsores==2,1],label=\"cluster 2\",s=100,c='green')\n",
    "plt.scatter(x[previsores==3,0],x[previsores==3,1],label=\"cluster 3\",s=100,c='blue')\n",
    "plt.xlabel(\"limite\")\n",
    "plt.ylabel(\"gastos\")\n",
    "plt.legend()\n"
   ]
  },
  {
   "cell_type": "code",
   "execution_count": 6,
   "metadata": {},
   "outputs": [
    {
     "data": {
      "text/plain": [
       "array([2], dtype=int32)"
      ]
     },
     "execution_count": 6,
     "metadata": {},
     "output_type": "execute_result"
    }
   ],
   "source": [
    "malco=np.array([2.56283,6.46735]).reshape(1,-1)\n",
    "var=kmeans.predict(malco)\n",
    "var"
   ]
  },
  {
   "cell_type": "code",
   "execution_count": 12,
   "metadata": {},
   "outputs": [
    {
     "data": {
      "text/plain": [
       "array([[     1,  20000,      2, ...,      1,   7704,      3],\n",
       "       [     2, 120000,      2, ...,      1,  17077,      3],\n",
       "       [     3,  90000,      2, ...,      0, 101653,      3],\n",
       "       ...,\n",
       "       [ 29998,  30000,      1, ...,      1,  70496,      3],\n",
       "       [ 29999,  80000,      1, ...,      1, 266611,      3],\n",
       "       [ 30000,  50000,      1, ...,      1, 230874,      3]], dtype=int64)"
      ]
     },
     "execution_count": 12,
     "metadata": {},
     "output_type": "execute_result"
    }
   ],
   "source": [
    "lista_clientes=np.column_stack((base,previsores))\n",
    "ista_clientes=lista_clientes[lista_clientes[:,26].argsort()]\n",
    "lista_clientes"
   ]
  }
 ],
 "metadata": {
  "kernelspec": {
   "display_name": "Python 3",
   "language": "python",
   "name": "python3"
  },
  "language_info": {
   "codemirror_mode": {
    "name": "ipython",
    "version": 3
   },
   "file_extension": ".py",
   "mimetype": "text/x-python",
   "name": "python",
   "nbconvert_exporter": "python",
   "pygments_lexer": "ipython3",
   "version": "3.7.0"
  }
 },
 "nbformat": 4,
 "nbformat_minor": 2
}
