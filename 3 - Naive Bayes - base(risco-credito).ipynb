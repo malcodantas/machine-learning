{
 "cells": [
  {
   "cell_type": "code",
   "execution_count": 2,
   "metadata": {},
   "outputs": [],
   "source": [
    "import pandas as pd\n",
    "base=pd.read_csv('risco-credito.csv')"
   ]
  },
  {
   "cell_type": "code",
   "execution_count": 21,
   "metadata": {},
   "outputs": [],
   "source": [
    "previsores=base.iloc[:,0:4].values\n",
    "classe=base.iloc[:,-1].values"
   ]
  },
  {
   "cell_type": "code",
   "execution_count": 25,
   "metadata": {},
   "outputs": [],
   "source": [
    "from sklearn.naive_bayes import GaussianNB"
   ]
  },
  {
   "cell_type": "code",
   "execution_count": 31,
   "metadata": {},
   "outputs": [],
   "source": [
    "# O algoritmo nao aceita variaveis categoricas, é preciso converte-las em variaveis discretas \n",
    "# com o LabelEncoder\n",
    "from sklearn.preprocessing import LabelEncoder\n",
    "labelencoder=LabelEncoder()\n",
    "for i in range(0,4):\n",
    "    previsores[:,i]=labelencoder.fit_transform(previsores[:,i])"
   ]
  },
  {
   "cell_type": "code",
   "execution_count": 33,
   "metadata": {},
   "outputs": [
    {
     "data": {
      "text/plain": [
       "GaussianNB(priors=None)"
      ]
     },
     "execution_count": 33,
     "metadata": {},
     "output_type": "execute_result"
    }
   ],
   "source": [
    "#treinando o algoritmo\n",
    "classificador=GaussianNB()\n",
    "classificador.fit(previsores,classe)\n"
   ]
  },
  {
   "cell_type": "code",
   "execution_count": 45,
   "metadata": {},
   "outputs": [],
   "source": [
    "resultado=classificador.predict(previsores)"
   ]
  },
  {
   "cell_type": "code",
   "execution_count": 81,
   "metadata": {},
   "outputs": [
    {
     "name": "stdout",
     "output_type": "stream",
     "text": [
      "taxa de acerto de: 71.43%\n"
     ]
    }
   ],
   "source": [
    "cont=0\n",
    "for i in range(0,len(resultado)):\n",
    "    if classe[i]==resultado[i]:\n",
    "        cont+=1\n",
    "    else:\n",
    "        continue\n",
    "taxa_acerto=cont/len(resultado)*100\n",
    "print(\"taxa de acerto de: %2.2f%%\"%(taxa_acerto))"
   ]
  },
  {
   "cell_type": "code",
   "execution_count": 91,
   "metadata": {},
   "outputs": [
    {
     "name": "stdout",
     "output_type": "stream",
     "text": [
      "['alto' 'baixo' 'moderado']\n",
      "[6. 5. 3.]\n",
      "[0.42857143 0.35714286 0.21428571]\n",
      "['alto' 'alto' 'moderado' 'alto' 'baixo' 'baixo' 'alto' 'moderado' 'baixo'\n",
      " 'baixo' 'alto' 'moderado' 'baixo' 'alto']\n"
     ]
    }
   ],
   "source": [
    "#é importante conhecer mais algumas propriedades dos objetos GaussianNB\n",
    "print(classificador.classes_) #imprime o nome das classes na ordem [0,1,2]\n",
    "print(classificador.class_count_)\n",
    "print(classificador.class_prior_) #probabilidade a priori\n"
   ]
  }
 ],
 "metadata": {
  "kernelspec": {
   "display_name": "Python 3",
   "language": "python",
   "name": "python3"
  },
  "language_info": {
   "codemirror_mode": {
    "name": "ipython",
    "version": 3
   },
   "file_extension": ".py",
   "mimetype": "text/x-python",
   "name": "python",
   "nbconvert_exporter": "python",
   "pygments_lexer": "ipython3",
   "version": "3.7.0"
  }
 },
 "nbformat": 4,
 "nbformat_minor": 2
}
